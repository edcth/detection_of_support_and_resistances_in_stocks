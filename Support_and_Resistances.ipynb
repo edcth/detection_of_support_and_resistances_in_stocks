{
  "nbformat": 4,
  "nbformat_minor": 0,
  "metadata": {
    "colab": {
      "name": "Support_and_Resistances.ipynb",
      "provenance": [],
      "collapsed_sections": []
    },
    "kernelspec": {
      "name": "python3",
      "display_name": "Python 3"
    }
  },
  "cells": [
    {
      "cell_type": "code",
      "metadata": {
        "id": "WynfUaQUvikY",
        "colab_type": "code",
        "colab": {}
      },
      "source": [
        "#First, load file with stock prices.\n",
        "#For Brazilian securities, you can find this file in https://github.com/felbuch/B3_daily_historical_data.\n",
        "import pandas as pd\n",
        "file = pd.read_parquet('B3.gzip')"
      ],
      "execution_count": 0,
      "outputs": []
    },
    {
      "cell_type": "code",
      "metadata": {
        "id": "k64lKBHVvL80",
        "colab_type": "code",
        "colab": {}
      },
      "source": [
        "class SupportResistance():\n",
        "\n",
        "  '''Estimates support and resistance values for a stock\n",
        "  \n",
        "  >>> Example of use:\n",
        "  To estimate support and resistance values fro PETR4 in 2020:\n",
        "\n",
        "  sr = SupportResistance('PETR4', 2020) #Creates the instance\n",
        "  sr.get_data() #Loads the data. You may need to pass it the file name.\n",
        "  sr.fit() #Estimates support and resistance\n",
        "  sr.plot_price() #Plots the price history, with supports and resistances marked.\n",
        "\n",
        "  You may also obtain the histogram of previous prices, \n",
        "  alongside the estimated probability density function with supports and resistances marked\n",
        "  by running\n",
        "\n",
        "  sr.plot_pdf()\n",
        "\n",
        "  If you want to obtain the values of estimates support and resistances in a Pandas dataframe,\n",
        "  just run\n",
        "\n",
        "  sr.data_frame()\n",
        "\n",
        "  '''\n",
        "\n",
        "  def __init__(self, stock, year):\n",
        "\n",
        "    self.stock = stock\n",
        "    self.year = year\n",
        "    self.data = None\n",
        "    self.estimator = None\n",
        "    self.pdf = None\n",
        "    self.xx_ = None\n",
        "    self.support_resistances = None\n",
        "    self.strengths = None\n",
        "\n",
        "  \n",
        "  def get_data(self, file = file):\n",
        "    '''Imports B3 dataset from https://github.com/felbuch/B3_daily_historical_data\n",
        "    and filters by year and stock of interest. \n",
        "    Here, 'file' should be the variable containing this file, previously imported.\n",
        "    Also, creates array of prices to be used in the fitting process'''\n",
        "    \n",
        "    import pandas as pd\n",
        "    import datetime as dt\n",
        "    import numpy as np\n",
        "\n",
        "\n",
        "    #Load file\n",
        "    #file = pd.read_parquet(file_name)\n",
        "\n",
        "    \n",
        "    #Filter stock and year\n",
        "    data = file.loc[(file.date.dt.year == self.year) & (file.security == self.stock), ['date','open','close']]\n",
        "    print(len(file))\n",
        "\n",
        "\n",
        "\n",
        "    #Transform open and close prices from cents to Brazilian Reais\n",
        "    data['open'] = data['open']/100\n",
        "    data['close'] = data['close']/100\n",
        "    \n",
        "\n",
        "    #Stack open and close prices, since both determine support and resistances\n",
        "    #Reshape so it becomes 1D numpy array\n",
        "    prices = np.vstack([data['open'],data['close']]).reshape(-1,1)\n",
        "\n",
        "    #Save data and prices in self\n",
        "    self.data = data\n",
        "    self.prices = prices\n",
        "\n",
        "  def fit(self, min_bandwidth_log = -1, max_bandwidth_log = 1, min_prominence = 0.01):\n",
        "    ''' Finds the points of support and resistance.\n",
        "    This is done in the following steps:\n",
        "    (1) Estimate the probability density function of previous prices using a gaussian kernel.\n",
        "    The bindwidth is determined by Grid Search cross-validation.\n",
        "    Since my object of interest is the distribution of prices, and not the time series itself,\n",
        "    I do not use a time series cross-validation, but rather an ordinary 5-fold cross-validation.\n",
        "    Bin values range from 10**min_bandwidth_log to 100**max_bandwidth_log\n",
        "    (2) Identify the peaks in the estimated density function. \n",
        "    To aviod inflexion points and minor peaks being counted, only peaks with a prominence higher than\n",
        "    min_prominence are considered. \n",
        "    '''\n",
        "\n",
        "    import numpy as np\n",
        "    from sklearn.neighbors import KernelDensity\n",
        "    from sklearn.model_selection import GridSearchCV\n",
        "    from scipy.signal import find_peaks\n",
        "\n",
        "    #Define values of bandwidths to try (hyperparameter space)\n",
        "    bandwidths = 10 ** np.linspace(-1, 1, 100)\n",
        "      \n",
        "    #Grid search\n",
        "    grid = GridSearchCV(KernelDensity(kernel='gaussian'),\n",
        "                        {'bandwidth': bandwidths})\n",
        "    grid.fit(self.prices)\n",
        "    best_estimator = grid.best_estimator_\n",
        "\n",
        "    #Fit best estimator to data\n",
        "    kde = best_estimator.fit(self.prices)\n",
        "\n",
        "    #Construct pdf\n",
        "    a, b = min(self.prices), max(self.prices)\n",
        "    xx = np.linspace(a, b, 1000).reshape(-1,1)\n",
        "    pdf = np.exp(kde.score_samples(xx))\n",
        "\n",
        "    #Find maxima\n",
        "    #These are the support and resistances\n",
        "    peaks, _ = find_peaks(pdf, prominence = min_prominence)\n",
        "    support_resistances = xx[peaks] #price values\n",
        "    strengths = pdf[peaks] #density (related to strength of resistance/support)\n",
        "\n",
        "    #Save to self\n",
        "    self.estimator = best_estimator\n",
        "    self.xx_ = xx\n",
        "    self.pdf = pdf\n",
        "    self.support_resistances = support_resistances\n",
        "    self.strengths = strengths\n",
        "\n",
        "  def data_frame(self):\n",
        "    '''Returns a dataframe with values for the supports and resistances\n",
        "    alongside their strengths.\n",
        "    \n",
        "    Note: The strength is merely the estimated value of the pdf at that price.\n",
        "    A high value of strength means a stock has visited that price many times.\n",
        "    Whether this means the support/resistance is stronger or weaker is up to you to decide :) \n",
        "    '''\n",
        "\n",
        "    import pandas as pd\n",
        "\n",
        "    output = pd.DataFrame({'price': self.support_resistances.reshape(-1,), \n",
        "                           'strength': self.strengths.reshape(-1,)})\n",
        "    return(output)\n",
        "\n",
        "\n",
        "\n",
        "  def plot_pdf(self, figsize = (6,6)):\n",
        "\n",
        "    '''Plots the histogram of prices, with the probability density function\n",
        "    estimated in the fit function. The maxima (i.e. points of support and resistance)\n",
        "    are also shown.'''\n",
        "\n",
        "    import matplotlib.pyplot as plt\n",
        "\n",
        "    plt.figure(figsize=figsize)\n",
        "    \n",
        "    plt.hist(self.prices, density=True, bins=50, color= 'lightblue', alpha=0.2)\n",
        "    plt.plot(self.xx_, self.pdf, linestyle='--', color='red')\n",
        "    plt.scatter(self.support_resistances, self.strengths, color = 'blue')\n",
        "    \n",
        "    plt.title(f'Support and resistances in price distribution\\n(stock: {self.stock})')\n",
        "    plt.xlabel('Price')\n",
        "    plt.ylabel('Frequency')\n",
        "    \n",
        "    plt.xticks(list(range(int(min(self.xx_)), int(max(self.xx_)))))\n",
        "    plt.grid('on')\n",
        "    plt.show()\n",
        "\n",
        "  def plot_price(self, figsize = (10,6)):\n",
        "\n",
        "    '''Plots the time series of price evolution (orange), \n",
        "    together with the estimated values of supports and resistances (blue)'''\n",
        "    \n",
        "    import matplotlib.pyplot as plt\n",
        "\n",
        "    plt.figure(figsize=figsize)\n",
        "    \n",
        "    plt.title(f'Automatic detection of support and resistances in {self.stock} stock price ')\n",
        "    plt.plot(self.data['date'] , self.data['close'], color = 'orange')\n",
        "    \n",
        "    for value in self.support_resistances:\n",
        "      plt.axhline(y = value, linestyle = ':', color = 'blue')\n",
        "    \n",
        "    plt.show()\n",
        "\n"
      ],
      "execution_count": 0,
      "outputs": []
    },
    {
      "cell_type": "code",
      "metadata": {
        "id": "cni0rVqvvdwC",
        "colab_type": "code",
        "colab": {
          "base_uri": "https://localhost:8080/",
          "height": 407
        },
        "outputId": "fc118beb-be18-4ac2-e9a6-3ec34aafd305"
      },
      "source": [
        "#An example\n",
        "#Let's estimate the support and resistance for PETR4 in 2020\n",
        "sr = SupportResistance('PETR4', 2020)\n",
        "sr.get_data()\n",
        "sr.fit()\n",
        "sr.plot_price()"
      ],
      "execution_count": 42,
      "outputs": [
        {
          "output_type": "stream",
          "text": [
            "3037272\n"
          ],
          "name": "stdout"
        },
        {
          "output_type": "display_data",
          "data": {
            "image/png": "[encoded data removed]",
            "text/plain": [
              "<Figure size 720x432 with 1 Axes>"
            ]
          },
          "metadata": {
            "tags": [],
            "needs_background": "light"
          }
        }
      ]
    },
    {
      "cell_type": "code",
      "metadata": {
        "id": "7h24dOAD0ZLI",
        "colab_type": "code",
        "colab": {
          "base_uri": "https://localhost:8080/",
          "height": 419
        },
        "outputId": "5aaf9ee5-0c4a-4e31-b133-a4c9e6a35fb1"
      },
      "source": [
        "#Now let's take a look at the pdf of prices and where the support and resistances lie\n",
        "sr.plot_pdf()"
      ],
      "execution_count": 43,
      "outputs": [
        {
          "output_type": "display_data",
          "data": {
            "image/png": "[encoded data removed]",
            "text/plain": [
              "<Figure size 432x432 with 1 Axes>"
            ]
          },
          "metadata": {
            "tags": [],
            "needs_background": "light"
          }
        }
      ]
    },
    {
      "cell_type": "code",
      "metadata": {
        "id": "CynjwrmA2U5j",
        "colab_type": "code",
        "colab": {
          "base_uri": "https://localhost:8080/",
          "height": 171
        },
        "outputId": "45126cf8-a4a8-43dd-bfae-ff5e46b984b2"
      },
      "source": [
        "#We can also get it as a dataframe:\n",
        "sr.data_frame()"
      ],
      "execution_count": 44,
      "outputs": [
        {
          "output_type": "execute_result",
          "data": {
            "text/html": [
              "<div>\n",
              "<style scoped>\n",
              "    .dataframe tbody tr th:only-of-type {\n",
              "        vertical-align: middle;\n",
              "    }\n",
              "\n",
              "    .dataframe tbody tr th {\n",
              "        vertical-align: top;\n",
              "    }\n",
              "\n",
              "    .dataframe thead th {\n",
              "        text-align: right;\n",
              "    }\n",
              "</style>\n",
              "<table border=\"1\" class=\"dataframe\">\n",
              "  <thead>\n",
              "    <tr style=\"text-align: right;\">\n",
              "      <th></th>\n",
              "      <th>price</th>\n",
              "      <th>strength</th>\n",
              "    </tr>\n",
              "  </thead>\n",
              "  <tbody>\n",
              "    <tr>\n",
              "      <th>0</th>\n",
              "      <td>13.271111</td>\n",
              "      <td>0.074796</td>\n",
              "    </tr>\n",
              "    <tr>\n",
              "      <th>1</th>\n",
              "      <td>16.186096</td>\n",
              "      <td>0.088863</td>\n",
              "    </tr>\n",
              "    <tr>\n",
              "      <th>2</th>\n",
              "      <td>26.140671</td>\n",
              "      <td>0.038262</td>\n",
              "    </tr>\n",
              "    <tr>\n",
              "      <th>3</th>\n",
              "      <td>29.591061</td>\n",
              "      <td>0.202903</td>\n",
              "    </tr>\n",
              "  </tbody>\n",
              "</table>\n",
              "</div>"
            ],
            "text/plain": [
              "       price  strength\n",
              "0  13.271111  0.074796\n",
              "1  16.186096  0.088863\n",
              "2  26.140671  0.038262\n",
              "3  29.591061  0.202903"
            ]
          },
          "metadata": {
            "tags": []
          },
          "execution_count": 44
        }
      ]
    }
  ]
}